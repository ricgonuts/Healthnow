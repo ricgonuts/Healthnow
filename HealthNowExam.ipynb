{
 "cells": [
  {
   "cell_type": "code",
   "execution_count": 2,
   "id": "f87bcf5e",
   "metadata": {},
   "outputs": [],
   "source": [
    "#Importing Pandas\n",
    "import pandas"
   ]
  },
  {
   "cell_type": "code",
   "execution_count": 3,
   "id": "bb0b32da",
   "metadata": {},
   "outputs": [
    {
     "data": {
      "text/plain": [
       "'1.2.4'"
      ]
     },
     "execution_count": 3,
     "metadata": {},
     "output_type": "execute_result"
    }
   ],
   "source": [
    "#Knowing the version of the pandas\n",
    "pandas.__version__"
   ]
  },
  {
   "cell_type": "code",
   "execution_count": 1,
   "id": "44d96e43",
   "metadata": {},
   "outputs": [],
   "source": [
    "import pandas as pd"
   ]
  },
  {
   "cell_type": "code",
   "execution_count": 6,
   "id": "9046086d",
   "metadata": {},
   "outputs": [],
   "source": [
    "#Denormalization of results_president.csv\n",
    "#Assigning value to df_pres\n",
    "df_pres = pd.read_csv(r\"C:\\Users\\eWX945857\\Desktop\\Kodego\\Interview\\Healthnow\\HN Python Test 2021\\results_president.csv\")"
   ]
  },
  {
   "cell_type": "code",
   "execution_count": 7,
   "id": "24718c7b",
   "metadata": {
    "scrolled": true
   },
   "outputs": [
    {
     "name": "stdout",
     "output_type": "stream",
     "text": [
      "        precinct_code  contest_code                   candidate_name  \\\n",
      "0            69140005        199009           DUTERTE, RODY (PDPLBN)   \n",
      "1            69140005        199009  DEFENSOR SANTIAGO, MIRIAM (PRP)   \n",
      "2            69140005        199009                BINAY, JOJO (UNA)   \n",
      "3            69140005        199009    ROXAS, MAR DAANG MATUWID (LP)   \n",
      "4            69140005        199009            SEÑERES, ROY (WPPPMM)   \n",
      "...               ...           ...                              ...   \n",
      "542149       65100028        199009  DEFENSOR SANTIAGO, MIRIAM (PRP)   \n",
      "542150       65100028        199009                BINAY, JOJO (UNA)   \n",
      "542151       65100028        199009    ROXAS, MAR DAANG MATUWID (LP)   \n",
      "542152       65100028        199009            SEÑERES, ROY (WPPPMM)   \n",
      "542153       65100028        199009                 POE, GRACE (IND)   \n",
      "\n",
      "        party_code  votes  col5  ballots_cast  col7  col8  \\\n",
      "0              114    124     3           639    13     8   \n",
      "1              135     12     2           639    13     8   \n",
      "2              163     94     1           639    13     8   \n",
      "3               85    126     5           639    13     8   \n",
      "4              165      1     6           639    13     8   \n",
      "...            ...    ...   ...           ...   ...   ...   \n",
      "542149         135      0     2           506    30    14   \n",
      "542150         163     44     1           506    30    14   \n",
      "542151          85    131     5           506    30    14   \n",
      "542152         165      0     6           506    30    14   \n",
      "542153          58     26     4           506    30    14   \n",
      "\n",
      "                  timestamp  pct_votes  \n",
      "0       05/09/2016 17:05:50   0.194053  \n",
      "1       05/09/2016 17:05:50   0.018779  \n",
      "2       05/09/2016 17:05:50   0.147105  \n",
      "3       05/09/2016 17:05:50   0.197183  \n",
      "4       05/09/2016 17:05:50   0.001565  \n",
      "...                     ...        ...  \n",
      "542149  05/12/2016 09:05:03   0.000000  \n",
      "542150  05/12/2016 09:05:03   0.086957  \n",
      "542151  05/12/2016 09:05:03   0.258893  \n",
      "542152  05/12/2016 09:05:03   0.000000  \n",
      "542153  05/12/2016 09:05:03   0.051383  \n",
      "\n",
      "[542154 rows x 11 columns]\n"
     ]
    }
   ],
   "source": [
    "#View dataframe pres_df\n",
    "print (df_pres)"
   ]
  },
  {
   "cell_type": "code",
   "execution_count": 8,
   "id": "6cb247bb",
   "metadata": {},
   "outputs": [
    {
     "name": "stdout",
     "output_type": "stream",
     "text": [
      "precinct_code       int64\n",
      "contest_code        int64\n",
      "candidate_name     object\n",
      "party_code          int64\n",
      "votes               int64\n",
      "col5                int64\n",
      "ballots_cast        int64\n",
      "col7                int64\n",
      "col8                int64\n",
      "timestamp          object\n",
      "pct_votes         float64\n",
      "dtype: object\n"
     ]
    }
   ],
   "source": [
    "print (df_pres.dtypes)"
   ]
  },
  {
   "cell_type": "code",
   "execution_count": null,
   "id": "7b10a61d",
   "metadata": {},
   "outputs": [],
   "source": []
  },
  {
   "cell_type": "code",
   "execution_count": 9,
   "id": "1da7e92d",
   "metadata": {},
   "outputs": [],
   "source": [
    "#Assigning value to ref_table_precinct_locations_PSGC\n",
    "df_precinct = pd.read_csv(r\"C:\\Users\\eWX945857\\Desktop\\Kodego\\Interview\\Healthnow\\HN Python Test 2021\\ref_table_precinct_locations_PSGC.csv\")"
   ]
  },
  {
   "cell_type": "code",
   "execution_count": 10,
   "id": "3ddc7998",
   "metadata": {},
   "outputs": [
    {
     "name": "stdout",
     "output_type": "stream",
     "text": [
      "       Unnamed: 0  precinct_code       region             province  \\\n",
      "0               0       55170026     REGION I           PANGASINAN   \n",
      "1               1       55170027     REGION I           PANGASINAN   \n",
      "2               2       55170023     REGION I           PANGASINAN   \n",
      "3               3       55170022     REGION I           PANGASINAN   \n",
      "4               4       55170025     REGION I           PANGASINAN   \n",
      "...           ...            ...          ...                  ...   \n",
      "90637       90637       72080005    REGION IX  ZAMBOANGA DEL NORTE   \n",
      "90638       90638       72080007    REGION IX  ZAMBOANGA DEL NORTE   \n",
      "90639       90639       72080018    REGION IX  ZAMBOANGA DEL NORTE   \n",
      "90640       90640       72080017    REGION IX  ZAMBOANGA DEL NORTE   \n",
      "90641       90641       67060001  REGION XIII    SURIGAO DEL NORTE   \n",
      "\n",
      "      municipality            barangay  registered_voters  ballots_cast  \\\n",
      "0         CALASIAO             BUENLAG                592           503   \n",
      "1         CALASIAO             BUENLAG                526           458   \n",
      "2         CALASIAO             BUENLAG                723           649   \n",
      "3         CALASIAO             BUENLAG                768           650   \n",
      "4         CALASIAO             BUENLAG                787           662   \n",
      "...            ...                 ...                ...           ...   \n",
      "90637        MUTIA              DILAND                327           284   \n",
      "90638        MUTIA          HEAD TIPAN                252           235   \n",
      "90639        MUTIA         SANTO TOMAS                628           529   \n",
      "90640        MUTIA         SANTO TOMAS                532           474   \n",
      "90641       CLAVER  TAYAGA (POB. EAST)                683           575   \n",
      "\n",
      "         PSGC_CM  is_city income_class  population  land_area  \\\n",
      "0       15517000      0.0          1st     91109.0     4836.0   \n",
      "1       15517000      0.0          1st     91109.0     4836.0   \n",
      "2       15517000      0.0          1st     91109.0     4836.0   \n",
      "3       15517000      0.0          1st     91109.0     4836.0   \n",
      "4       15517000      0.0          1st     91109.0     4836.0   \n",
      "...          ...      ...          ...         ...        ...   \n",
      "90637   97208000      0.0          5th     11975.0     7358.0   \n",
      "90638   97208000      0.0          5th     11975.0     7358.0   \n",
      "90639   97208000      0.0          5th     11975.0     7358.0   \n",
      "90640   97208000      0.0          5th     11975.0     7358.0   \n",
      "90641  166706000      0.0          2nd     23702.0    32260.0   \n",
      "\n",
      "               province_CM municipality_CM  \n",
      "0               PANGASINAN        CALASIAO  \n",
      "1               PANGASINAN        CALASIAO  \n",
      "2               PANGASINAN        CALASIAO  \n",
      "3               PANGASINAN        CALASIAO  \n",
      "4               PANGASINAN        CALASIAO  \n",
      "...                    ...             ...  \n",
      "90637  ZAMBOANGA DEL NORTE           MUTIA  \n",
      "90638  ZAMBOANGA DEL NORTE           MUTIA  \n",
      "90639  ZAMBOANGA DEL NORTE           MUTIA  \n",
      "90640  ZAMBOANGA DEL NORTE           MUTIA  \n",
      "90641    SURIGAO DEL NORTE          CLAVER  \n",
      "\n",
      "[90642 rows x 15 columns]\n"
     ]
    }
   ],
   "source": [
    "#View dataframe pres_df\n",
    "print (df_precinct)"
   ]
  },
  {
   "cell_type": "code",
   "execution_count": 11,
   "id": "5ae0babb",
   "metadata": {},
   "outputs": [
    {
     "name": "stdout",
     "output_type": "stream",
     "text": [
      "Unnamed: 0             int64\n",
      "precinct_code          int64\n",
      "region                object\n",
      "province              object\n",
      "municipality          object\n",
      "barangay              object\n",
      "registered_voters      int64\n",
      "ballots_cast           int64\n",
      "PSGC_CM               object\n",
      "is_city              float64\n",
      "income_class          object\n",
      "population           float64\n",
      "land_area            float64\n",
      "province_CM           object\n",
      "municipality_CM       object\n",
      "dtype: object\n"
     ]
    }
   ],
   "source": [
    "print (df_precinct.dtypes)"
   ]
  },
  {
   "cell_type": "code",
   "execution_count": 14,
   "id": "01346bb9",
   "metadata": {},
   "outputs": [],
   "source": [
    "#Merging two files\n",
    "df = pd.merge(df_pres,df_precinct, on =\"precinct_code\",how =\"inner\")\n",
    "#Drop uncessary columns\n",
    "df.drop(['Unnamed: 0','precinct_code','registered_voters', 'ballots_cast_y', 'PSGC_CM', 'is_city',\n",
    "       'income_class', 'population', 'land_area', 'province_CM',\n",
    "       'municipality_CM'], axis='columns', inplace=True)"
   ]
  },
  {
   "cell_type": "code",
   "execution_count": 15,
   "id": "fa99d2ae",
   "metadata": {},
   "outputs": [
    {
     "name": "stdout",
     "output_type": "stream",
     "text": [
      "contest_code        int64\n",
      "candidate_name     object\n",
      "party_code          int64\n",
      "votes               int64\n",
      "col5                int64\n",
      "ballots_cast_x      int64\n",
      "col7                int64\n",
      "col8                int64\n",
      "timestamp          object\n",
      "pct_votes         float64\n",
      "region             object\n",
      "province           object\n",
      "municipality       object\n",
      "barangay           object\n",
      "dtype: object\n"
     ]
    }
   ],
   "source": [
    "print (df.dtypes)"
   ]
  },
  {
   "cell_type": "code",
   "execution_count": 16,
   "id": "3c71ecc3",
   "metadata": {},
   "outputs": [],
   "source": [
    "#Saving the edited Data\n",
    "df.to_csv(r'C:\\Users\\eWX945857\\Desktop\\Kodego\\Interview\\Healthnow\\HN Python Test 2021\\DN_president.csv')"
   ]
  },
  {
   "cell_type": "code",
   "execution_count": 17,
   "id": "31770d5b",
   "metadata": {},
   "outputs": [],
   "source": [
    "#Denormalization of results_vice-president.csv\n",
    "#Assigning value to df_vp\n",
    "df_vp = pd.read_csv(r\"C:\\Users\\eWX945857\\Desktop\\Kodego\\Interview\\Healthnow\\HN Python Test 2021\\results_vice-president.csv\")"
   ]
  },
  {
   "cell_type": "code",
   "execution_count": 18,
   "id": "d1baaa10",
   "metadata": {},
   "outputs": [
    {
     "name": "stdout",
     "output_type": "stream",
     "text": [
      "        precinct_code  contest_code                    candidate_name  \\\n",
      "0            10030074        299009  ROBREDO, LENI DAANG MATUWID (LP)   \n",
      "1            10030074        299009              ESCUDERO, CHIZ (IND)   \n",
      "2            10030074        299009        CAYETANO, ALAN PETER (IND)   \n",
      "3             1070001        299009            MARCOS, BONGBONG (IND)   \n",
      "4            36320001        299009            MARCOS, BONGBONG (IND)   \n",
      "...               ...           ...                               ...   \n",
      "542155       65100021        299009       TRILLANES, ANTONIO IV (IND)   \n",
      "542156       65100021        299009             HONASAN, GRINGO (UNA)   \n",
      "542157       65100021        299009  ROBREDO, LENI DAANG MATUWID (LP)   \n",
      "542158       65100021        299009              ESCUDERO, CHIZ (IND)   \n",
      "542159       65100021        299009        CAYETANO, ALAN PETER (IND)   \n",
      "\n",
      "        party_code  votes  col5  ballots_cast  col7  col8  \\\n",
      "0               85    185     5           535    25     9   \n",
      "1               58    133     2           535    25     9   \n",
      "2               58     36     1           535    25     9   \n",
      "3               58    498     4           558    15     2   \n",
      "4               58    368     4           442    19     1   \n",
      "...            ...    ...   ...           ...   ...   ...   \n",
      "542155          58     10     6           620    74     1   \n",
      "542156         163     25     3           620    74     1   \n",
      "542157          85    290     5           620    74     1   \n",
      "542158          58     42     2           620    74     1   \n",
      "542159          58     66     1           620    74     1   \n",
      "\n",
      "                  timestamp  pct_votes  \n",
      "0       05/09/2016 17:07:51   0.345794  \n",
      "1       05/09/2016 17:07:51   0.248598  \n",
      "2       05/09/2016 17:07:51   0.067290  \n",
      "3       05/09/2016 17:07:53   0.892473  \n",
      "4       05/09/2016 17:05:50   0.832579  \n",
      "...                     ...        ...  \n",
      "542155  05/12/2016 09:01:22   0.016129  \n",
      "542156  05/12/2016 09:01:22   0.040323  \n",
      "542157  05/12/2016 09:01:22   0.467742  \n",
      "542158  05/12/2016 09:01:22   0.067742  \n",
      "542159  05/12/2016 09:01:22   0.106452  \n",
      "\n",
      "[542160 rows x 11 columns]\n"
     ]
    }
   ],
   "source": [
    "#View dataframe pres_df\n",
    "print (df_vp)"
   ]
  },
  {
   "cell_type": "code",
   "execution_count": 19,
   "id": "456ba3ee",
   "metadata": {},
   "outputs": [
    {
     "name": "stdout",
     "output_type": "stream",
     "text": [
      "precinct_code       int64\n",
      "contest_code        int64\n",
      "candidate_name     object\n",
      "party_code          int64\n",
      "votes               int64\n",
      "col5                int64\n",
      "ballots_cast        int64\n",
      "col7                int64\n",
      "col8                int64\n",
      "timestamp          object\n",
      "pct_votes         float64\n",
      "dtype: object\n"
     ]
    }
   ],
   "source": [
    "print (df_vp.dtypes)"
   ]
  },
  {
   "cell_type": "code",
   "execution_count": 21,
   "id": "83614708",
   "metadata": {},
   "outputs": [],
   "source": [
    "#Since we already assigned a variable to PSGC.csv file, we will now do merging\n",
    "#Merging two files\n",
    "df_1 = pd.merge(df_vp,df_precinct, on =\"precinct_code\",how =\"inner\")\n",
    "#Drop uncessary columns\n",
    "df_1.drop(['Unnamed: 0','precinct_code','registered_voters', 'ballots_cast_y', 'PSGC_CM', 'is_city',\n",
    "       'income_class', 'population', 'land_area', 'province_CM',\n",
    "       'municipality_CM'], axis='columns', inplace=True)"
   ]
  },
  {
   "cell_type": "code",
   "execution_count": 28,
   "id": "b0d38417",
   "metadata": {},
   "outputs": [
    {
     "name": "stdout",
     "output_type": "stream",
     "text": [
      "        contest_code                    candidate_name  party_code  votes  \\\n",
      "0             299009  ROBREDO, LENI DAANG MATUWID (LP)          85    185   \n",
      "1             299009              ESCUDERO, CHIZ (IND)          58    133   \n",
      "2             299009        CAYETANO, ALAN PETER (IND)          58     36   \n",
      "3             299009            MARCOS, BONGBONG (IND)          58    116   \n",
      "4             299009       TRILLANES, ANTONIO IV (IND)          58     10   \n",
      "...              ...                               ...         ...    ...   \n",
      "542095        299009       TRILLANES, ANTONIO IV (IND)          58     10   \n",
      "542096        299009             HONASAN, GRINGO (UNA)         163     25   \n",
      "542097        299009  ROBREDO, LENI DAANG MATUWID (LP)          85    290   \n",
      "542098        299009              ESCUDERO, CHIZ (IND)          58     42   \n",
      "542099        299009        CAYETANO, ALAN PETER (IND)          58     66   \n",
      "\n",
      "        col5  ballots_cast_x  col7  col8            timestamp  pct_votes  \\\n",
      "0          5             535    25     9  05/09/2016 17:07:51   0.345794   \n",
      "1          2             535    25     9  05/09/2016 17:07:51   0.248598   \n",
      "2          1             535    25     9  05/09/2016 17:07:51   0.067290   \n",
      "3          4             535    25     9  05/09/2016 17:07:51   0.216822   \n",
      "4          6             535    25     9  05/09/2016 17:07:51   0.018692   \n",
      "...      ...             ...   ...   ...                  ...        ...   \n",
      "542095     6             620    74     1  05/12/2016 09:01:22   0.016129   \n",
      "542096     3             620    74     1  05/12/2016 09:01:22   0.040323   \n",
      "542097     5             620    74     1  05/12/2016 09:01:22   0.467742   \n",
      "542098     2             620    74     1  05/12/2016 09:01:22   0.067742   \n",
      "542099     1             620    74     1  05/12/2016 09:01:22   0.106452   \n",
      "\n",
      "             region        province       municipality  barangay  \n",
      "0       REGION IV-A        BATANGAS            BALAYAN  SAN PIRO  \n",
      "1       REGION IV-A        BATANGAS            BALAYAN  SAN PIRO  \n",
      "2       REGION IV-A        BATANGAS            BALAYAN  SAN PIRO  \n",
      "3       REGION IV-A        BATANGAS            BALAYAN  SAN PIRO  \n",
      "4       REGION IV-A        BATANGAS            BALAYAN  SAN PIRO  \n",
      "...             ...             ...                ...       ...  \n",
      "542095   REGION XII  SULTAN KUDARAT  PRESIDENT QUIRINO  MALINGON  \n",
      "542096   REGION XII  SULTAN KUDARAT  PRESIDENT QUIRINO  MALINGON  \n",
      "542097   REGION XII  SULTAN KUDARAT  PRESIDENT QUIRINO  MALINGON  \n",
      "542098   REGION XII  SULTAN KUDARAT  PRESIDENT QUIRINO  MALINGON  \n",
      "542099   REGION XII  SULTAN KUDARAT  PRESIDENT QUIRINO  MALINGON  \n",
      "\n",
      "[542100 rows x 14 columns]\n"
     ]
    }
   ],
   "source": [
    "print(df_1)"
   ]
  },
  {
   "cell_type": "code",
   "execution_count": 29,
   "id": "ff0ae137",
   "metadata": {},
   "outputs": [
    {
     "name": "stdout",
     "output_type": "stream",
     "text": [
      "contest_code        int64\n",
      "candidate_name     object\n",
      "party_code          int64\n",
      "votes               int64\n",
      "col5                int64\n",
      "ballots_cast_x      int64\n",
      "col7                int64\n",
      "col8                int64\n",
      "timestamp          object\n",
      "pct_votes         float64\n",
      "region             object\n",
      "province           object\n",
      "municipality       object\n",
      "barangay           object\n",
      "dtype: object\n"
     ]
    }
   ],
   "source": [
    "print (df_1.dtypes)"
   ]
  },
  {
   "cell_type": "code",
   "execution_count": 23,
   "id": "4fb2d46f",
   "metadata": {},
   "outputs": [],
   "source": [
    "#Saving the edited Data\n",
    "df_1.to_csv(r'C:\\Users\\eWX945857\\Desktop\\Kodego\\Interview\\Healthnow\\HN Python Test 2021\\DN_vicepresident.csv')"
   ]
  },
  {
   "cell_type": "code",
   "execution_count": 25,
   "id": "eccb3d93",
   "metadata": {},
   "outputs": [
    {
     "name": "stdout",
     "output_type": "stream",
     "text": [
      "Requirement already satisfied: matplotlib in c:\\users\\ewx945857\\anaconda3\\lib\\site-packages (3.3.4)\n",
      "Requirement already satisfied: python-dateutil>=2.1 in c:\\users\\ewx945857\\anaconda3\\lib\\site-packages (from matplotlib) (2.8.1)\n",
      "Requirement already satisfied: numpy>=1.15 in c:\\users\\ewx945857\\anaconda3\\lib\\site-packages (from matplotlib) (1.20.1)\n",
      "Requirement already satisfied: cycler>=0.10 in c:\\users\\ewx945857\\anaconda3\\lib\\site-packages (from matplotlib) (0.10.0)\n",
      "Requirement already satisfied: pillow>=6.2.0 in c:\\users\\ewx945857\\anaconda3\\lib\\site-packages (from matplotlib) (8.2.0)\n",
      "Requirement already satisfied: pyparsing!=2.0.4,!=2.1.2,!=2.1.6,>=2.0.3 in c:\\users\\ewx945857\\anaconda3\\lib\\site-packages (from matplotlib) (2.4.7)\n",
      "Requirement already satisfied: kiwisolver>=1.0.1 in c:\\users\\ewx945857\\anaconda3\\lib\\site-packages (from matplotlib) (1.3.1)\n",
      "Requirement already satisfied: six in c:\\users\\ewx945857\\anaconda3\\lib\\site-packages (from cycler>=0.10->matplotlib) (1.15.0)\n",
      "Note: you may need to restart the kernel to use updated packages.\n"
     ]
    }
   ],
   "source": [
    "pip install matplotlib"
   ]
  },
  {
   "cell_type": "code",
   "execution_count": 27,
   "id": "54312111",
   "metadata": {},
   "outputs": [
    {
     "data": {
      "text/plain": [
       "'3.3.4'"
      ]
     },
     "execution_count": 27,
     "metadata": {},
     "output_type": "execute_result"
    }
   ],
   "source": [
    "import matplotlib\n",
    "matplotlib.__version__"
   ]
  },
  {
   "cell_type": "code",
   "execution_count": null,
   "id": "547814c0",
   "metadata": {},
   "outputs": [],
   "source": []
  },
  {
   "cell_type": "code",
   "execution_count": null,
   "id": "7a1dccbf",
   "metadata": {},
   "outputs": [],
   "source": []
  },
  {
   "cell_type": "code",
   "execution_count": null,
   "id": "b221b5b7",
   "metadata": {},
   "outputs": [],
   "source": []
  },
  {
   "cell_type": "code",
   "execution_count": null,
   "id": "93ab19d9",
   "metadata": {},
   "outputs": [],
   "source": []
  },
  {
   "cell_type": "code",
   "execution_count": null,
   "id": "e28e24ac",
   "metadata": {},
   "outputs": [],
   "source": []
  },
  {
   "cell_type": "code",
   "execution_count": null,
   "id": "714d50c1",
   "metadata": {},
   "outputs": [],
   "source": []
  },
  {
   "cell_type": "code",
   "execution_count": null,
   "id": "5c128ad1",
   "metadata": {},
   "outputs": [],
   "source": []
  },
  {
   "cell_type": "code",
   "execution_count": null,
   "id": "e74a9fb2",
   "metadata": {},
   "outputs": [],
   "source": []
  },
  {
   "cell_type": "code",
   "execution_count": null,
   "id": "8beb8df9",
   "metadata": {},
   "outputs": [],
   "source": []
  },
  {
   "cell_type": "code",
   "execution_count": null,
   "id": "b631a691",
   "metadata": {},
   "outputs": [],
   "source": []
  },
  {
   "cell_type": "code",
   "execution_count": null,
   "id": "5a12229f",
   "metadata": {},
   "outputs": [],
   "source": []
  },
  {
   "cell_type": "code",
   "execution_count": null,
   "id": "246b5130",
   "metadata": {},
   "outputs": [],
   "source": []
  },
  {
   "cell_type": "code",
   "execution_count": null,
   "id": "89fef7fe",
   "metadata": {},
   "outputs": [],
   "source": []
  },
  {
   "cell_type": "code",
   "execution_count": null,
   "id": "76a1ee52",
   "metadata": {},
   "outputs": [],
   "source": []
  },
  {
   "cell_type": "code",
   "execution_count": null,
   "id": "a9f088d5",
   "metadata": {},
   "outputs": [],
   "source": []
  },
  {
   "cell_type": "code",
   "execution_count": null,
   "id": "013e185a",
   "metadata": {},
   "outputs": [],
   "source": []
  },
  {
   "cell_type": "code",
   "execution_count": null,
   "id": "46a6d368",
   "metadata": {},
   "outputs": [],
   "source": []
  },
  {
   "cell_type": "code",
   "execution_count": null,
   "id": "50c188f2",
   "metadata": {},
   "outputs": [],
   "source": []
  },
  {
   "cell_type": "code",
   "execution_count": null,
   "id": "588c2aec",
   "metadata": {},
   "outputs": [],
   "source": []
  },
  {
   "cell_type": "code",
   "execution_count": null,
   "id": "6317df96",
   "metadata": {},
   "outputs": [],
   "source": []
  },
  {
   "cell_type": "code",
   "execution_count": null,
   "id": "9593052e",
   "metadata": {},
   "outputs": [],
   "source": []
  },
  {
   "cell_type": "code",
   "execution_count": null,
   "id": "69a692d3",
   "metadata": {},
   "outputs": [],
   "source": []
  },
  {
   "cell_type": "code",
   "execution_count": null,
   "id": "47981af5",
   "metadata": {},
   "outputs": [],
   "source": []
  },
  {
   "cell_type": "code",
   "execution_count": null,
   "id": "376af844",
   "metadata": {},
   "outputs": [],
   "source": []
  },
  {
   "cell_type": "code",
   "execution_count": null,
   "id": "59682cdd",
   "metadata": {},
   "outputs": [],
   "source": []
  },
  {
   "cell_type": "code",
   "execution_count": null,
   "id": "78da533e",
   "metadata": {},
   "outputs": [],
   "source": []
  },
  {
   "cell_type": "code",
   "execution_count": null,
   "id": "496eaffb",
   "metadata": {},
   "outputs": [],
   "source": []
  },
  {
   "cell_type": "code",
   "execution_count": null,
   "id": "1fa3ada0",
   "metadata": {},
   "outputs": [],
   "source": []
  },
  {
   "cell_type": "code",
   "execution_count": null,
   "id": "30e90652",
   "metadata": {},
   "outputs": [],
   "source": []
  },
  {
   "cell_type": "code",
   "execution_count": null,
   "id": "83b8dca1",
   "metadata": {},
   "outputs": [],
   "source": []
  },
  {
   "cell_type": "code",
   "execution_count": null,
   "id": "bd150f14",
   "metadata": {},
   "outputs": [],
   "source": []
  },
  {
   "cell_type": "code",
   "execution_count": null,
   "id": "09eb521b",
   "metadata": {},
   "outputs": [],
   "source": []
  },
  {
   "cell_type": "code",
   "execution_count": null,
   "id": "3f4f605f",
   "metadata": {},
   "outputs": [],
   "source": []
  },
  {
   "cell_type": "code",
   "execution_count": null,
   "id": "13e8d785",
   "metadata": {},
   "outputs": [],
   "source": []
  },
  {
   "cell_type": "code",
   "execution_count": null,
   "id": "3ef64b5c",
   "metadata": {},
   "outputs": [],
   "source": []
  },
  {
   "cell_type": "code",
   "execution_count": null,
   "id": "2ba04abc",
   "metadata": {},
   "outputs": [],
   "source": []
  },
  {
   "cell_type": "code",
   "execution_count": null,
   "id": "770e6d35",
   "metadata": {},
   "outputs": [],
   "source": []
  },
  {
   "cell_type": "code",
   "execution_count": null,
   "id": "7415f50e",
   "metadata": {},
   "outputs": [],
   "source": []
  },
  {
   "cell_type": "code",
   "execution_count": null,
   "id": "b3d3e04e",
   "metadata": {},
   "outputs": [],
   "source": []
  },
  {
   "cell_type": "code",
   "execution_count": null,
   "id": "63acb394",
   "metadata": {},
   "outputs": [],
   "source": []
  },
  {
   "cell_type": "code",
   "execution_count": null,
   "id": "ac42b2ac",
   "metadata": {},
   "outputs": [],
   "source": []
  },
  {
   "cell_type": "code",
   "execution_count": null,
   "id": "93c4375b",
   "metadata": {},
   "outputs": [],
   "source": []
  },
  {
   "cell_type": "code",
   "execution_count": null,
   "id": "de05a1cd",
   "metadata": {},
   "outputs": [],
   "source": []
  },
  {
   "cell_type": "code",
   "execution_count": null,
   "id": "9adcda88",
   "metadata": {},
   "outputs": [],
   "source": []
  },
  {
   "cell_type": "code",
   "execution_count": null,
   "id": "c4118a79",
   "metadata": {},
   "outputs": [],
   "source": []
  },
  {
   "cell_type": "code",
   "execution_count": null,
   "id": "28e38064",
   "metadata": {},
   "outputs": [],
   "source": []
  },
  {
   "cell_type": "code",
   "execution_count": null,
   "id": "e54745ab",
   "metadata": {},
   "outputs": [],
   "source": []
  }
 ],
 "metadata": {
  "kernelspec": {
   "display_name": "Python 3",
   "language": "python",
   "name": "python3"
  },
  "language_info": {
   "codemirror_mode": {
    "name": "ipython",
    "version": 3
   },
   "file_extension": ".py",
   "mimetype": "text/x-python",
   "name": "python",
   "nbconvert_exporter": "python",
   "pygments_lexer": "ipython3",
   "version": "3.8.8"
  }
 },
 "nbformat": 4,
 "nbformat_minor": 5
}
